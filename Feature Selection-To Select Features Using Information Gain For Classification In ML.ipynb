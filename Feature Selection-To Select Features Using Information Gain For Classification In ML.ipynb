{
 "cells": [
  {
   "cell_type": "markdown",
   "id": "1c1f7859",
   "metadata": {},
   "source": [
    "### Feature Selection-Information gain - mutual information In Classification Problem Statements\n",
    "Mutual Information\n",
    "MI Estimate mutual information for a discrete target variable.\n",
    "\n",
    "Mutual information (MI) between two random variables is a non-negative value, which measures the dependency between the variables. It is equal to zero if and only if two random variables are independent, and higher values mean higher dependency.\n",
    "\n",
    "The function relies on nonparametric methods based on entropy estimation from k-nearest neighbors distances.\n",
    "\n",
    "Inshort\n",
    "\n",
    "A quantity called mutual information measures the amount of information one can obtain from one random variable given another.\n",
    "\n",
    "The mutual information between two random variables X and Y can be stated formally as follows:\n",
    "\n",
    "I(X ; Y) = H(X) – H(X | Y) Where I(X ; Y) is the mutual information for X and Y, H(X) is the entropy for X and H(X | Y) is the conditional entropy for X given Y. The result has the units of bits.\n",
    "\n",
    "Youtube Videos\n",
    "Entropy: https://www.youtube.com/watch?v=1IQOtJ4NI_0\n",
    "\n",
    "Information Gain: https://www.youtube.com/watch?v=FuTRucXB9rA\n",
    "\n",
    "Gini Impurity: https://www.youtube.com/watch?v=5aIFgrrTqOw\n",
    "\n",
    "Statistical test: https://www.youtube.com/watch?v=4-rxTA_5_xA"
   ]
  }
 ],
 "metadata": {
  "kernelspec": {
   "display_name": "Python 3",
   "language": "python",
   "name": "python3"
  },
  "language_info": {
   "codemirror_mode": {
    "name": "ipython",
    "version": 3
   },
   "file_extension": ".py",
   "mimetype": "text/x-python",
   "name": "python",
   "nbconvert_exporter": "python",
   "pygments_lexer": "ipython3",
   "version": "3.8.8"
  }
 },
 "nbformat": 4,
 "nbformat_minor": 5
}
